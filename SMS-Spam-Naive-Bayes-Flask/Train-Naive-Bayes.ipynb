{
 "cells": [
  {
   "cell_type": "markdown",
   "metadata": {},
   "source": [
    "# A Naive-Bayes classifier of spam SMSs\n",
    "Using the SMS Spam collection dataset from UCI Machine Learning\n",
    "https://www.kaggle.com/uciml/sms-spam-collection-dataset"
   ]
  },
  {
   "cell_type": "code",
   "execution_count": 1,
   "metadata": {},
   "outputs": [],
   "source": [
    "import pandas as pd\n",
    "import numpy as np\n",
    "import matplotlib.pyplot as plt\n",
    "from sklearn.feature_extraction.text import CountVectorizer\n",
    "from sklearn.model_selection import train_test_split\n",
    "from sklearn.naive_bayes import MultinomialNB\n",
    "from sklearn.metrics import classification_report\n",
    "from sklearn.pipeline import Pipeline\n",
    "from sklearn.externals import joblib"
   ]
  },
  {
   "cell_type": "markdown",
   "metadata": {},
   "source": [
    "## Data cleaning\n",
    "The csv file has a formatting issue. There are commas in the SMS description which creates artificial columns. Let's start by removing all the commas from the text description"
   ]
  },
  {
   "cell_type": "code",
   "execution_count": 2,
   "metadata": {},
   "outputs": [
    {
     "data": {
      "text/plain": [
       "'cat word, dog word mouse word'"
      ]
     },
     "execution_count": 2,
     "metadata": {},
     "output_type": "execute_result"
    }
   ],
   "source": [
    "'''A function that removes all but the first comma in a string'''\n",
    "def rreplace(s, old, new):\n",
    "    occurrence = s.count(old) -1\n",
    "    li = s.rsplit(old, occurrence)\n",
    "    return new.join(li)\n",
    "\n",
    "a = 'cat word,, dog, word, mouse, word'\n",
    "rreplace(a, ',', '')"
   ]
  },
  {
   "cell_type": "code",
   "execution_count": 3,
   "metadata": {},
   "outputs": [],
   "source": [
    "f = open('spam.csv')\n",
    "f_clean = open('spam_clean.csv','w')\n",
    "for line in f.readlines():\n",
    "    \n",
    "    clean_line = rreplace(line,',','')\n",
    "    f_clean.write(clean_line)\n",
    "        \n",
    "f_clean.close()"
   ]
  },
  {
   "cell_type": "markdown",
   "metadata": {},
   "source": [
    "We can now load the clean data set. "
   ]
  },
  {
   "cell_type": "code",
   "execution_count": 4,
   "metadata": {},
   "outputs": [
    {
     "name": "stdout",
     "output_type": "stream",
     "text": [
      "<class 'pandas.core.frame.DataFrame'>\n",
      "RangeIndex: 5572 entries, 0 to 5571\n",
      "Data columns (total 2 columns):\n",
      "v1    5572 non-null object\n",
      "v2    5572 non-null object\n",
      "dtypes: object(2)\n",
      "memory usage: 87.1+ KB\n"
     ]
    }
   ],
   "source": [
    "df = pd.read_csv('spam_clean.csv', encoding=\"latin-1\")\n",
    "df.info()\n",
    "df['label'] = df['v1'].map({'ham': 0, 'spam': 1})\n",
    "X = df['v2']\n",
    "y = df['label']"
   ]
  },
  {
   "cell_type": "markdown",
   "metadata": {},
   "source": [
    "## Some data exploration"
   ]
  },
  {
   "cell_type": "code",
   "execution_count": 5,
   "metadata": {},
   "outputs": [
    {
     "data": {
      "image/png": "[encoded data removed]",
      "text/plain": [
       "<matplotlib.figure.Figure at 0x1154aafd0>"
      ]
     },
     "metadata": {},
     "output_type": "display_data"
    }
   ],
   "source": [
    "plt.bar([0,1],df.groupby('v1').count().v2.values, edgecolor='k')\n",
    "plt.xticks([0,1], ('Ham', 'Spam'))\n",
    "plt.ylabel('# SMS')\n",
    "plt.show()"
   ]
  },
  {
   "cell_type": "code",
   "execution_count": 6,
   "metadata": {},
   "outputs": [
    {
     "data": {
      "image/png": "[encoded data removed]",
      "text/plain": [
       "<matplotlib.figure.Figure at 0x10f84d310>"
      ]
     },
     "metadata": {},
     "output_type": "display_data"
    }
   ],
   "source": [
    "df['lengthSMS'] = df['v2'].apply(lambda x: len(x))\n",
    "plt.hist(df.query('label==0').lengthSMS, lw=2, edgecolor='b',bins=50,\n",
    "         density=True, histtype='step',label='Ham',range=[0,300])\n",
    "plt.hist(df.query('label==1').lengthSMS, lw=2, edgecolor='r',bins=50,\n",
    "         density=True, histtype='step',label='Spam',range=[0,300])\n",
    "plt.xlabel('Length SMS')\n",
    "plt.ylabel('Normalized # SMS')\n",
    "plt.legend()\n",
    "plt.show()"
   ]
  },
  {
   "cell_type": "markdown",
   "metadata": {},
   "source": [
    "Messages above 100 characters tend to be spam. We will use sklearn's `CountVectorizer` to create a sparse matrix of token counts.\n",
    "\n",
    "## Feature Engineering"
   ]
  },
  {
   "cell_type": "code",
   "execution_count": 7,
   "metadata": {},
   "outputs": [],
   "source": [
    "## Build token matrix\n",
    "cv = CountVectorizer()\n",
    "X_tokens = cv.fit_transform(X)"
   ]
  },
  {
   "cell_type": "code",
   "execution_count": 8,
   "metadata": {},
   "outputs": [],
   "source": [
    "cv_ham = CountVectorizer()\n",
    "X_ham = cv_ham.fit_transform(X[y==0])\n",
    "cv_spam = CountVectorizer()\n",
    "X_spam = cv_spam.fit_transform(X[y==1])"
   ]
  },
  {
   "cell_type": "code",
   "execution_count": 9,
   "metadata": {},
   "outputs": [
    {
     "name": "stdout",
     "output_type": "stream",
     "text": [
      "('Top ham tokens:', [(u'you', 1942), (u'to', 1562), (u'the', 1133), (u'and', 857), (u'in', 821), (u'me', 776), (u'my', 753), (u'is', 738), (u'it', 707), (u'that', 554)])\n",
      "('Top spam tokens:', [(u'to', 691), (u'call', 355), (u'you', 297), (u'your', 264), (u'free', 224), (u'the', 206), (u'for', 203), (u'now', 199), (u'or', 188), (u'txt', 163)])\n"
     ]
    }
   ],
   "source": [
    "sum_words = X_ham.sum(axis=0)\n",
    "sum_words\n",
    "words_freq = [(word, sum_words[0, idx]) for word, idx in cv_ham.vocabulary_.items()]\n",
    "words_freq =sorted(words_freq, key = lambda x: x[1], reverse=True)\n",
    "print(\"Top ham tokens:\", words_freq[:10])\n",
    "\n",
    "sum_words = X_spam.sum(axis=0)\n",
    "sum_words\n",
    "words_freq = [(word, sum_words[0, idx]) for word, idx in cv_spam.vocabulary_.items()]\n",
    "words_freq =sorted(words_freq, key = lambda x: x[1], reverse=True)\n",
    "print(\"Top spam tokens:\", words_freq[:10])"
   ]
  },
  {
   "cell_type": "markdown",
   "metadata": {},
   "source": [
    "## Build the model"
   ]
  },
  {
   "cell_type": "code",
   "execution_count": 10,
   "metadata": {},
   "outputs": [
    {
     "name": "stdout",
     "output_type": "stream",
     "text": [
      "             precision    recall  f1-score   support\n",
      "\n",
      "          0       0.99      0.99      0.99      1587\n",
      "          1       0.92      0.92      0.92       252\n",
      "\n",
      "avg / total       0.98      0.98      0.98      1839\n",
      "\n"
     ]
    }
   ],
   "source": [
    "## Split train/test data set\n",
    "X_train, X_test, y_train, y_test = train_test_split(X_tokens, y, test_size=0.33, random_state=42)\n",
    "\n",
    "## Naive Bayes Classifier\n",
    "clf = MultinomialNB()\n",
    "clf.fit(X_train,y_train)\n",
    "clf.score(X_test,y_test)\n",
    "y_pred = clf.predict(X_test)\n",
    "print(classification_report(y_test, y_pred))"
   ]
  },
  {
   "cell_type": "markdown",
   "metadata": {},
   "source": [
    "## Actually, need both steps combined, so let's build a pipeline\n",
    "Also, here I will use both test and train data in the tokenization to have as many tokens included in the corpus"
   ]
  },
  {
   "cell_type": "code",
   "execution_count": 11,
   "metadata": {},
   "outputs": [
    {
     "data": {
      "text/plain": [
       "Pipeline(memory=None,\n",
       "     steps=[('feature_building', CountVectorizer(analyzer=u'word', binary=False, decode_error=u'strict',\n",
       "        dtype=<type 'numpy.int64'>, encoding=u'utf-8', input=u'content',\n",
       "        lowercase=True, max_df=1.0, max_features=None, min_df=1,\n",
       "        ngram_range=(1, 1), preprocessor=None, stop_words=None,\n",
       "        strip_accents=None, token_pattern=u'(?u)\\\\b\\\\w\\\\w+\\\\b',\n",
       "        tokenizer=None, vocabulary=None)), ('classifier', MultinomialNB(alpha=1.0, class_prior=None, fit_prior=True))])"
      ]
     },
     "execution_count": 11,
     "metadata": {},
     "output_type": "execute_result"
    }
   ],
   "source": [
    "pipeline = Pipeline([\n",
    "    ('feature_building',CountVectorizer()),\n",
    "    ('classifier', MultinomialNB())\n",
    "])\n",
    "\n",
    "pipeline.fit(X, y)"
   ]
  },
  {
   "cell_type": "code",
   "execution_count": 12,
   "metadata": {},
   "outputs": [
    {
     "data": {
      "text/plain": [
       "['spam_pipeline.pkl']"
      ]
     },
     "execution_count": 12,
     "metadata": {},
     "output_type": "execute_result"
    }
   ],
   "source": [
    "joblib.dump(pipeline, 'spam_pipeline.pkl')"
   ]
  },
  {
   "cell_type": "code",
   "execution_count": 13,
   "metadata": {},
   "outputs": [
    {
     "data": {
      "text/plain": [
       "array([0, 1])"
      ]
     },
     "execution_count": 13,
     "metadata": {},
     "output_type": "execute_result"
    }
   ],
   "source": [
    "## Test it\n",
    "text_message = ['text one two three, fefref, fef','to call you your free']\n",
    "spam_pipeline = open('spam_pipeline.pkl')\n",
    "pipeline_load = joblib.load(spam_pipeline)\n",
    "pipeline_load.predict(text_message)"
   ]
  },
  {
   "cell_type": "markdown",
   "metadata": {},
   "source": [
    "## It works!"
   ]
  }
 ],
 "metadata": {
  "kernelspec": {
   "display_name": "Python 3",
   "language": "python",
   "name": "python3"
  },
  "language_info": {
   "codemirror_mode": {
    "name": "ipython",
    "version": 2
   },
   "file_extension": ".py",
   "mimetype": "text/x-python",
   "name": "python",
   "nbconvert_exporter": "python",
   "pygments_lexer": "ipython2",
   "version": "2.7.13"
  }
 },
 "nbformat": 4,
 "nbformat_minor": 2
}
