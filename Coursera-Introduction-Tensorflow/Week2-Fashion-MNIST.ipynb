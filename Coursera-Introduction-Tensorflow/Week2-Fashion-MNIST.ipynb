{
 "cells": [
  {
   "cell_type": "markdown",
   "metadata": {},
   "source": [
    "# Intro to NN for Computer Vision\n",
    "## Using the Fashion-MNIST Dataset"
   ]
  },
  {
   "cell_type": "code",
   "execution_count": 1,
   "metadata": {},
   "outputs": [
    {
     "name": "stdout",
     "output_type": "stream",
     "text": [
      "1.14.0\n"
     ]
    }
   ],
   "source": [
    "import tensorflow as tf\n",
    "import numpy as np\n",
    "from tensorflow import keras\n",
    "import matplotlib.pyplot as plt\n",
    "print(tf.__version__)"
   ]
  },
  {
   "cell_type": "code",
   "execution_count": 2,
   "metadata": {},
   "outputs": [],
   "source": [
    "fashion_mnist = keras.datasets.fashion_mnist\n",
    "(train_images, train_labels) , (test_images, test_labels) = fashion_mnist.load_data()"
   ]
  },
  {
   "cell_type": "code",
   "execution_count": 3,
   "metadata": {},
   "outputs": [
    {
     "data": {
      "text/plain": [
       "<matplotlib.image.AxesImage at 0x7f4bbe5471d0>"
      ]
     },
     "execution_count": 3,
     "metadata": {},
     "output_type": "execute_result"
    },
    {
     "data": {
      "image/png": "[encoded data removed]",
      "text/plain": [
       "<Figure size 432x288 with 1 Axes>"
      ]
     },
     "metadata": {
      "needs_background": "light"
     },
     "output_type": "display_data"
    }
   ],
   "source": [
    "plt.imshow(train_images[0])"
   ]
  },
  {
   "cell_type": "code",
   "execution_count": 4,
   "metadata": {},
   "outputs": [],
   "source": [
    "train_images = train_images / 255.0\n",
    "test_images = test_images / 255.0"
   ]
  },
  {
   "cell_type": "markdown",
   "metadata": {},
   "source": [
    "### Define the NN\n",
    "- `Sequential` defines the layers of the network\n",
    "- `Flatten` takes the square and turns it into a 1D-array\n",
    "- `Dense` adds a layer to the network, with a:\n",
    " - A `ReLu` activation function: If X>0 return X, else 0`\n",
    " - Or a `Softmax` function: finds the largest output in the array and turns into 1, keeping the rest at 0"
   ]
  },
  {
   "cell_type": "code",
   "execution_count": 5,
   "metadata": {},
   "outputs": [
    {
     "name": "stderr",
     "output_type": "stream",
     "text": [
      "WARNING: Logging before flag parsing goes to stderr.\n",
      "W0623 01:23:58.308922 139965240948544 deprecation.py:506] From /home/elder/anaconda3/lib/python3.7/site-packages/tensorflow/python/ops/init_ops.py:1251: calling VarianceScaling.__init__ (from tensorflow.python.ops.init_ops) with dtype is deprecated and will be removed in a future version.\n",
      "Instructions for updating:\n",
      "Call initializer instance with the dtype argument instead of passing it to the constructor\n"
     ]
    }
   ],
   "source": [
    "model = keras.Sequential([\n",
    "    keras.layers.Flatten(input_shape=(28,28)), ## 28 because the image is a 28x28 pixel image\n",
    "    keras.layers.Dense(1024, activation=tf.nn.relu), # 128 layers just because\n",
    "#     keras.layers.Dense(512, activation=tf.nn.relu), # 128 layers just because\n",
    "    keras.layers.Dense(10, activation=tf.nn.softmax) # 10 output layers because there are 10 possible outcome labels\n",
    "])"
   ]
  },
  {
   "cell_type": "code",
   "execution_count": 6,
   "metadata": {},
   "outputs": [],
   "source": [
    "class myCallback(tf.keras.callbacks.Callback):\n",
    "    \n",
    "    def on_epoch_end(self, epoch, logs={}):\n",
    "        if(logs.get('acc')>0.6):\n",
    "            print(\"\\nReached 60% accuracy, interrupting training!\")\n",
    "            self.model.stop_training = True\n",
    "            \n",
    "callbacks = myCallback()"
   ]
  },
  {
   "cell_type": "code",
   "execution_count": 7,
   "metadata": {},
   "outputs": [
    {
     "name": "stdout",
     "output_type": "stream",
     "text": [
      "Epoch 1/15\n",
      "59648/60000 [============================>.] - ETA: 0s - loss: 0.4726 - acc: 0.8297\n",
      "Reached 60% accuracy, interrupting training!\n",
      "60000/60000 [==============================] - 3s 47us/sample - loss: 0.4721 - acc: 0.8298\n"
     ]
    },
    {
     "data": {
      "text/plain": [
       "<tensorflow.python.keras.callbacks.History at 0x7f4bc12e4f60>"
      ]
     },
     "execution_count": 7,
     "metadata": {},
     "output_type": "execute_result"
    }
   ],
   "source": [
    "model.compile(optimizer = tf.train.AdamOptimizer(),\n",
    "             loss = 'sparse_categorical_crossentropy',\n",
    "             metrics=['accuracy'])\n",
    "model.fit(train_images, train_labels, epochs = 15, callbacks=[callbacks])"
   ]
  },
  {
   "cell_type": "code",
   "execution_count": 8,
   "metadata": {},
   "outputs": [
    {
     "name": "stdout",
     "output_type": "stream",
     "text": [
      "10000/10000 [==============================] - 0s 28us/sample - loss: 0.3996 - acc: 0.8559\n"
     ]
    },
    {
     "data": {
      "text/plain": [
       "[0.39958176052570343, 0.8559]"
      ]
     },
     "execution_count": 8,
     "metadata": {},
     "output_type": "execute_result"
    }
   ],
   "source": [
    "model.evaluate(test_images, test_labels)"
   ]
  },
  {
   "cell_type": "code",
   "execution_count": 9,
   "metadata": {},
   "outputs": [],
   "source": [
    "predictions = model.predict(test_images)"
   ]
  },
  {
   "cell_type": "code",
   "execution_count": 10,
   "metadata": {},
   "outputs": [
    {
     "name": "stdout",
     "output_type": "stream",
     "text": [
      "Mispredicted indexes [17, 21, 23, 25, 40, 42, 49, 51, 66, 67, 68, 72, 73, 89, 98, 103, 107, 127, 136, 147, 150, 153, 222, 227, 239, 241, 244, 247, 248, 249, 252, 255, 268, 271, 282, 283, 286, 299, 313, 314, 315, 316, 320, 322, 324, 325, 332, 337, 344, 359, 361, 367, 378, 381, 382, 396, 406, 407, 408, 409, 441, 444, 454, 457, 460, 465, 474, 480, 490, 491, 526, 527, 529, 541, 562, 563, 565, 569, 570, 572, 577, 578, 581, 586, 587, 595, 607, 608, 623, 634, 635, 639, 663, 670, 671, 680, 688, 689, 697, 701, 711, 722, 725, 732, 753, 760, 787, 800, 801, 805, 830, 844, 851, 860, 881, 887, 890, 902, 905, 907, 909, 921, 926, 930, 935, 963, 965, 966, 968, 971, 976, 977, 979, 987, 993, 994, 1005, 1008, 1025, 1053, 1054, 1055, 1056, 1058, 1065, 1101, 1104, 1107, 1111, 1116, 1129, 1139, 1152, 1160, 1162, 1174, 1185, 1188, 1192, 1197, 1210, 1213, 1223, 1231, 1235, 1254, 1269, 1280, 1294, 1297, 1300, 1315, 1317, 1326, 1329, 1336, 1339, 1341, 1356, 1374, 1377, 1388, 1390, 1396, 1399, 1408, 1425, 1438, 1449, 1455, 1458, 1462, 1471, 1475, 1481, 1483, 1487, 1489, 1495, 1496, 1501, 1502, 1504, 1509, 1513, 1522, 1524, 1527, 1533, 1575, 1586, 1593, 1606, 1617, 1620, 1624, 1632, 1640, 1643, 1645, 1650, 1659, 1662, 1665, 1686, 1701, 1705, 1706, 1732, 1743, 1744, 1754, 1768, 1771, 1792, 1797, 1810, 1811, 1814, 1817, 1825, 1833, 1846, 1848, 1852, 1856, 1863, 1895, 1917, 1922, 1930, 1942, 1943, 1945, 1949, 1953, 1954, 1957, 1964, 1968, 1974, 1975, 1980, 2001, 2006, 2009, 2019, 2020, 2021, 2022, 2037, 2039, 2042, 2053, 2057, 2064, 2065, 2071, 2073, 2078, 2082, 2085, 2104, 2110, 2144, 2148, 2162, 2181, 2182, 2189, 2190, 2191, 2195, 2245, 2247, 2272, 2278, 2284, 2290, 2293, 2298, 2311, 2312, 2316, 2318, 2320, 2332, 2337, 2351, 2359, 2373, 2376, 2396, 2397, 2399, 2417, 2418, 2423, 2425, 2431, 2447, 2462, 2464, 2469, 2476, 2478, 2485, 2487, 2491, 2498, 2503, 2506, 2507, 2509, 2522, 2527, 2540, 2542, 2548, 2551, 2552, 2559, 2570, 2571, 2573, 2578, 2580, 2592, 2593, 2599, 2615, 2617, 2619, 2626, 2629, 2639, 2653, 2655, 2659, 2670, 2681, 2685, 2688, 2695, 2717, 2721, 2733, 2734, 2741, 2776, 2779, 2817, 2824, 2837, 2838, 2839, 2840, 2842, 2843, 2856, 2869, 2882, 2889, 2894, 2897, 2898, 2903, 2904, 2905, 2906, 2909, 2910, 2914, 2918, 2919, 2920, 2926, 2935, 2939, 2940, 2942, 2951, 2953, 2956, 2967, 2973, 2975, 2985, 2986, 2999, 3004, 3007, 3008, 3019, 3020, 3040, 3045, 3051, 3058, 3067, 3074, 3080, 3081, 3082, 3084, 3087, 3101, 3106, 3109, 3116, 3123, 3132, 3140, 3165, 3174, 3176, 3187, 3188, 3191, 3198, 3201, 3209, 3215, 3228, 3229, 3230, 3232, 3234, 3236, 3239, 3240, 3253, 3255, 3262, 3265, 3282, 3284, 3290, 3293, 3297, 3301, 3313, 3322, 3323, 3327, 3329, 3332, 3334, 3338, 3342, 3386, 3416, 3429, 3434, 3441, 3451, 3453, 3457, 3458, 3466, 3468, 3476, 3479, 3481, 3488, 3489, 3496, 3497, 3509, 3510, 3526, 3531, 3532, 3534, 3535, 3545, 3553, 3554, 3556, 3568, 3585, 3598, 3609, 3613, 3617, 3625, 3626, 3643, 3655, 3663, 3669, 3673, 3690, 3700, 3706, 3714, 3720, 3724, 3730, 3731, 3733, 3739, 3741, 3745, 3747, 3765, 3767, 3779, 3780, 3800, 3804, 3805, 3807, 3811, 3816, 3829, 3830, 3861, 3864, 3866, 3871, 3876, 3880, 3896, 3906, 3909, 3919, 3929, 3932, 3936, 3937, 3938, 3940, 3953, 3961, 3970, 3974, 3984, 3987, 4005, 4010, 4012, 4019, 4021, 4037, 4040, 4041, 4052, 4056, 4058, 4061, 4071, 4079, 4082, 4083, 4084, 4092, 4106, 4109, 4124, 4127, 4132, 4138, 4140, 4142, 4143, 4145, 4147, 4148, 4152, 4153, 4159, 4160, 4166, 4167, 4169, 4192, 4194, 4196, 4224, 4231, 4233, 4247, 4250, 4251, 4262, 4267, 4271, 4272, 4274, 4280, 4300, 4307, 4329, 4333, 4336, 4363, 4388, 4389, 4391, 4394, 4399, 4404, 4405, 4411, 4416, 4417, 4420, 4451, 4460, 4471, 4484, 4486, 4495, 4501, 4505, 4507, 4509, 4542, 4568, 4569, 4579, 4587, 4597, 4608, 4624, 4629, 4639, 4641, 4643, 4646, 4649, 4650, 4652, 4658, 4664, 4668, 4671, 4672, 4674, 4685, 4686, 4687, 4692, 4693, 4694, 4727, 4738, 4746, 4751, 4758, 4775, 4777, 4782, 4784, 4803, 4817, 4823, 4826, 4828, 4829, 4842, 4845, 4846, 4847, 4850, 4852, 4859, 4866, 4874, 4878, 4880, 4886, 4893, 4896, 4897, 4905, 4907, 4916, 4922, 4934, 4936, 4948, 4956, 4965, 4981, 4985, 4995, 5006, 5009, 5012, 5014, 5015, 5025, 5026, 5030, 5036, 5037, 5039, 5046, 5052, 5056, 5065, 5077, 5081, 5082, 5086, 5088, 5095, 5097, 5107, 5121, 5123, 5125, 5148, 5151, 5155, 5159, 5164, 5167, 5168, 5172, 5184, 5186, 5197, 5204, 5210, 5228, 5235, 5236, 5248, 5249, 5251, 5255, 5257, 5266, 5270, 5284, 5297, 5307, 5316, 5327, 5334, 5336, 5338, 5352, 5356, 5381, 5383, 5395, 5397, 5415, 5416, 5424, 5429, 5435, 5438, 5441, 5442, 5459, 5468, 5469, 5470, 5471, 5474, 5476, 5484, 5488, 5497, 5498, 5504, 5510, 5511, 5512, 5520, 5521, 5522, 5525, 5533, 5546, 5563, 5568, 5569, 5575, 5576, 5578, 5583, 5592, 5594, 5596, 5597, 5605, 5623, 5626, 5634, 5648, 5654, 5659, 5661, 5673, 5683, 5689, 5695, 5701, 5703, 5710, 5713, 5718, 5719, 5734, 5739, 5746, 5752, 5762, 5763, 5764, 5792, 5795, 5804, 5806, 5820, 5828, 5840, 5853, 5881, 5885, 5899, 5918, 5919, 5931, 5938, 5946, 5956, 5966, 5967, 5971, 5974, 5977, 5980, 5983, 5987, 6008, 6012, 6020, 6023, 6024, 6032, 6037, 6065, 6083, 6094, 6096, 6099, 6103, 6106, 6112, 6117, 6126, 6127, 6138, 6147, 6148, 6149, 6156, 6159, 6160, 6163, 6168, 6169, 6171, 6175, 6176, 6184, 6191, 6201, 6207, 6223, 6231, 6241, 6242, 6248, 6254, 6258, 6270, 6285, 6286, 6287, 6290, 6297, 6302, 6325, 6329, 6331, 6344, 6356, 6360, 6363, 6365, 6368, 6381, 6387, 6400, 6402, 6404, 6407, 6418, 6420, 6433, 6437, 6441, 6447, 6452, 6453, 6464, 6474, 6478, 6485, 6488, 6491, 6500, 6504, 6511, 6513, 6524, 6531, 6539, 6546, 6547, 6558, 6559, 6565, 6569, 6573, 6584, 6591, 6596, 6614, 6626, 6634, 6636, 6649, 6651, 6655, 6656, 6658, 6664, 6676, 6682, 6688, 6691, 6699, 6701, 6704, 6705, 6709, 6715, 6718, 6720, 6721, 6727, 6733, 6758, 6770, 6797, 6799, 6801, 6816, 6820, 6826, 6829, 6844, 6855, 6859, 6861, 6866, 6868, 6874, 6881, 6897, 6899, 6904, 6908, 6921, 6926, 6927, 6938, 6942, 6957, 6958, 6964, 6969, 6971, 6984, 6993, 6994, 6996, 6997, 7002, 7004, 7013, 7025, 7026, 7028, 7042, 7047, 7049, 7068, 7069, 7078, 7095, 7100, 7108, 7109, 7112, 7114, 7125, 7130, 7133, 7136, 7137, 7138, 7157, 7163, 7165, 7167, 7177, 7182, 7188, 7189, 7195, 7210, 7211, 7218, 7221, 7228, 7244, 7258, 7262, 7267, 7268, 7274, 7278, 7281, 7282, 7288, 7299, 7301, 7314, 7321, 7332, 7334, 7336, 7342, 7343, 7345, 7349, 7350, 7355, 7368, 7369, 7387, 7401, 7404, 7416, 7425, 7432, 7442, 7450, 7452, 7464, 7473, 7495, 7499, 7500, 7509, 7517, 7527, 7541, 7551, 7557, 7565, 7583, 7587, 7591, 7596, 7599, 7604, 7635, 7638, 7646, 7647, 7660, 7679, 7680, 7683, 7703, 7707, 7709, 7719, 7720, 7721, 7735, 7769, 7777, 7778, 7798, 7800, 7815, 7816, 7823, 7829, 7831, 7851, 7855, 7863, 7876, 7881, 7884, 7899, 7903, 7910, 7915, 7924, 7931, 7936, 7948, 7958, 7959, 7962, 7971, 7976, 7983, 7992, 7998, 8001, 8005, 8007, 8009, 8024, 8033, 8038, 8051, 8054, 8059, 8065, 8066, 8074, 8080, 8085, 8090, 8111, 8114, 8121, 8137, 8140, 8154, 8156, 8162, 8178, 8191, 8198, 8202, 8204, 8205, 8211, 8217, 8237, 8239, 8259, 8260, 8275, 8283, 8292, 8297, 8300, 8306, 8324, 8348, 8353, 8360, 8373, 8375, 8406, 8414, 8417, 8429, 8436, 8454, 8457, 8459, 8462, 8463, 8465, 8469, 8471, 8476, 8485, 8487, 8512, 8525, 8532, 8534, 8536, 8538, 8556, 8557, 8567, 8568, 8580, 8591, 8592, 8593, 8598, 8607, 8610, 8617, 8618, 8621, 8625, 8633, 8646, 8658, 8664, 8669, 8678, 8683, 8688, 8695, 8705, 8706, 8708, 8710, 8714, 8717, 8718, 8723, 8728, 8745, 8748, 8756, 8757, 8758, 8762, 8763, 8764, 8768, 8774, 8782, 8784, 8799, 8804, 8806, 8814, 8818, 8827, 8832, 8858, 8869, 8871, 8877, 8878, 8879, 8884, 8906, 8914, 8919, 8929, 8933, 8939, 8940, 8946, 8950, 8952, 8958, 8962, 8969, 8997, 8999, 9017, 9024, 9025, 9032, 9033, 9051, 9057, 9059, 9062, 9064, 9071, 9073, 9074, 9091, 9094, 9114, 9122, 9126, 9133, 9146, 9148, 9154, 9160, 9165, 9177, 9179, 9180, 9183, 9204, 9211, 9222, 9225, 9227, 9237, 9247, 9251, 9256, 9276, 9279, 9280, 9281, 9286, 9291, 9292, 9295, 9297, 9304, 9306, 9307, 9308, 9325, 9329, 9344, 9348, 9349, 9350, 9351, 9358, 9362, 9375, 9379, 9416, 9441, 9445, 9446, 9449, 9450, 9455, 9475, 9480, 9485, 9487, 9499, 9512, 9521, 9524, 9531, 9537, 9545, 9554, 9573, 9574, 9577, 9582, 9590, 9601, 9602, 9604, 9614, 9622, 9632, 9644, 9647, 9662, 9663, 9666, 9668, 9679, 9684, 9687, 9690, 9692, 9705, 9706, 9719, 9729, 9748, 9755, 9762, 9779, 9781, 9791, 9795, 9804, 9809, 9813, 9831, 9835, 9852, 9856, 9859, 9862, 9868, 9876, 9880, 9902, 9904, 9916, 9928, 9946, 9947, 9949, 9953, 9955, 9957, 9961, 9963, 9964, 9972, 9977, 9979, 9985, 9989]\n"
     ]
    }
   ],
   "source": [
    "## Find mispredictions\n",
    "mispred = []\n",
    "for index,pred in enumerate(predictions):\n",
    "    predicted_label = np.argmax(pred)\n",
    "    label = test_labels[index]\n",
    "    if predicted_label != label:\n",
    "        mispred.append(index)\n",
    "        \n",
    "print(\"Mispredicted indexes\", mispred)"
   ]
  },
  {
   "cell_type": "code",
   "execution_count": 11,
   "metadata": {},
   "outputs": [
    {
     "name": "stdout",
     "output_type": "stream",
     "text": [
      "Prediction: 2\n",
      "Label: 4\n"
     ]
    },
    {
     "data": {
      "text/plain": [
       "<matplotlib.image.AxesImage at 0x7f4bbe7fec18>"
      ]
     },
     "execution_count": 11,
     "metadata": {},
     "output_type": "execute_result"
    },
    {
     "data": {
      "image/png": "[encoded data removed]",
      "text/plain": [
       "<Figure size 432x288 with 1 Axes>"
      ]
     },
     "metadata": {
      "needs_background": "light"
     },
     "output_type": "display_data"
    }
   ],
   "source": [
    "print(\"Prediction:\", np.argmax(predictions[mispred[0]]))\n",
    "print(\"Label:\", test_labels[mispred[0]])\n",
    "plt.imshow(test_images[mispred[0]], cmap='gray')"
   ]
  }
 ],
 "metadata": {
  "kernelspec": {
   "display_name": "Python 3",
   "language": "python",
   "name": "python3"
  },
  "language_info": {
   "codemirror_mode": {
    "name": "ipython",
    "version": 3
   },
   "file_extension": ".py",
   "mimetype": "text/x-python",
   "name": "python",
   "nbconvert_exporter": "python",
   "pygments_lexer": "ipython3",
   "version": "3.7.3"
  }
 },
 "nbformat": 4,
 "nbformat_minor": 2
}
