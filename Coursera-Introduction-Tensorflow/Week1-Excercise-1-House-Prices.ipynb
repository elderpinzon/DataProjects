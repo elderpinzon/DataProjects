{
 "cells": [
  {
   "cell_type": "markdown",
   "metadata": {},
   "source": [
    "## Intro to Tensorflow\n",
    "### Predicting house prices using a linear model"
   ]
  },
  {
   "cell_type": "code",
   "execution_count": 1,
   "metadata": {},
   "outputs": [],
   "source": [
    "import tensorflow as tf\n",
    "import numpy as np\n",
    "from tensorflow import keras"
   ]
  },
  {
   "cell_type": "code",
   "execution_count": 2,
   "metadata": {},
   "outputs": [
    {
     "name": "stderr",
     "output_type": "stream",
     "text": [
      "WARNING: Logging before flag parsing goes to stderr.\n",
      "W0623 01:08:43.908633 140356519225152 deprecation.py:506] From /home/elder/anaconda3/lib/python3.7/site-packages/tensorflow/python/ops/init_ops.py:1251: calling VarianceScaling.__init__ (from tensorflow.python.ops.init_ops) with dtype is deprecated and will be removed in a future version.\n",
      "Instructions for updating:\n",
      "Call initializer instance with the dtype argument instead of passing it to the constructor\n"
     ]
    }
   ],
   "source": [
    "model = tf.keras.Sequential([keras.layers.Dense(units=1, input_shape=[1])])"
   ]
  },
  {
   "cell_type": "code",
   "execution_count": 3,
   "metadata": {},
   "outputs": [],
   "source": [
    "model.compile(optimizer='sgd', loss='mean_squared_error')"
   ]
  },
  {
   "cell_type": "code",
   "execution_count": 4,
   "metadata": {},
   "outputs": [
    {
     "name": "stdout",
     "output_type": "stream",
     "text": [
      "Epoch 1/10\n",
      "6/6 [==============================] - 1s 125ms/sample - loss: 18.0927\n",
      "Epoch 2/10\n",
      "6/6 [==============================] - 0s 805us/sample - loss: 8.4299\n",
      "Epoch 3/10\n",
      "6/6 [==============================] - 0s 739us/sample - loss: 3.9572\n",
      "Epoch 4/10\n",
      "6/6 [==============================] - 0s 2ms/sample - loss: 1.8867\n",
      "Epoch 5/10\n",
      "6/6 [==============================] - 0s 923us/sample - loss: 0.9281\n",
      "Epoch 6/10\n",
      "6/6 [==============================] - 0s 1ms/sample - loss: 0.4839\n",
      "Epoch 7/10\n",
      "6/6 [==============================] - 0s 384us/sample - loss: 0.2780\n",
      "Epoch 8/10\n",
      "6/6 [==============================] - 0s 480us/sample - loss: 0.1823\n",
      "Epoch 9/10\n",
      "6/6 [==============================] - 0s 627us/sample - loss: 0.1376\n",
      "Epoch 10/10\n",
      "6/6 [==============================] - 0s 442us/sample - loss: 0.1165\n"
     ]
    },
    {
     "data": {
      "text/plain": [
       "<tensorflow.python.keras.callbacks.History at 0x7fa6dbe54438>"
      ]
     },
     "execution_count": 4,
     "metadata": {},
     "output_type": "execute_result"
    }
   ],
   "source": [
    "xs = np.array([1.0,2.0,3.0,4.0,5.0,6.0], dtype=float)\n",
    "ys = np.array([1.0,1.5,2.0,2.5,3.0,3.5 ], dtype=float)\n",
    "\n",
    "model.fit(xs,ys,epochs=10)"
   ]
  },
  {
   "cell_type": "code",
   "execution_count": 5,
   "metadata": {},
   "outputs": [
    {
     "name": "stdout",
     "output_type": "stream",
     "text": [
      "[[4.6125507]]\n"
     ]
    }
   ],
   "source": [
    "print(model.predict([7.0]))"
   ]
  },
  {
   "cell_type": "code",
   "execution_count": null,
   "metadata": {},
   "outputs": [],
   "source": []
  }
 ],
 "metadata": {
  "kernelspec": {
   "display_name": "Python 3",
   "language": "python",
   "name": "python3"
  },
  "language_info": {
   "codemirror_mode": {
    "name": "ipython",
    "version": 3
   },
   "file_extension": ".py",
   "mimetype": "text/x-python",
   "name": "python",
   "nbconvert_exporter": "python",
   "pygments_lexer": "ipython3",
   "version": "3.7.3"
  }
 },
 "nbformat": 4,
 "nbformat_minor": 2
}
