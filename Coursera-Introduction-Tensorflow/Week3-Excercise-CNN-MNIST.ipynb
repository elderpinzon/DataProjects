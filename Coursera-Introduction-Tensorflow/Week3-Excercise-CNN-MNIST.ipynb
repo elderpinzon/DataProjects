{
 "cells": [
  {
   "cell_type": "markdown",
   "metadata": {},
   "source": [
    "# CNN for MNIST\n",
    "Goal: achieve 99.8% accuracy with a single convolutional layer and a single pooling layer."
   ]
  },
  {
   "cell_type": "code",
   "execution_count": 1,
   "metadata": {},
   "outputs": [],
   "source": [
    "import tensorflow as tf\n",
    "import numpy as np\n",
    "import matplotlib.pyplot as plt"
   ]
  },
  {
   "cell_type": "code",
   "execution_count": 2,
   "metadata": {},
   "outputs": [],
   "source": [
    "mnist = tf.keras.datasets.mnist\n",
    "(training_images, training_labels), (test_images, test_labels) = mnist.load_data()\n",
    "training_images = training_images.reshape(60000,28,28,1)\n",
    "training_images = training_images/255.\n",
    "\n",
    "test_images = test_images.reshape(10000,28,28,1)\n",
    "test_images = test_images/255."
   ]
  },
  {
   "cell_type": "code",
   "execution_count": 3,
   "metadata": {},
   "outputs": [],
   "source": [
    "class myCallback(tf.keras.callbacks.Callback):\n",
    "    \n",
    "    def on_epoch_end(self, epoch, logs={}):\n",
    "        if logs.get('acc') > 0.998:\n",
    "            print(\"\\nReached 99.8% accuracy, interrupting training!\")\n",
    "            self.model.stop_training = True\n",
    "            \n",
    "callbacks = myCallback()"
   ]
  },
  {
   "cell_type": "code",
   "execution_count": 4,
   "metadata": {},
   "outputs": [
    {
     "name": "stderr",
     "output_type": "stream",
     "text": [
      "WARNING: Logging before flag parsing goes to stderr.\n",
      "W0623 18:08:44.350327 140567281051456 deprecation.py:506] From /home/elder/anaconda3/lib/python3.7/site-packages/tensorflow/python/ops/init_ops.py:1251: calling VarianceScaling.__init__ (from tensorflow.python.ops.init_ops) with dtype is deprecated and will be removed in a future version.\n",
      "Instructions for updating:\n",
      "Call initializer instance with the dtype argument instead of passing it to the constructor\n"
     ]
    },
    {
     "name": "stdout",
     "output_type": "stream",
     "text": [
      "Epoch 1/100\n",
      "60000/60000 [==============================] - 6s 99us/sample - loss: 0.1463 - acc: 0.9562\n",
      "Epoch 2/100\n",
      "60000/60000 [==============================] - 5s 84us/sample - loss: 0.0526 - acc: 0.9836\n",
      "Epoch 3/100\n",
      "60000/60000 [==============================] - 5s 88us/sample - loss: 0.0348 - acc: 0.9890\n",
      "Epoch 4/100\n",
      "60000/60000 [==============================] - 5s 84us/sample - loss: 0.0235 - acc: 0.9930\n",
      "Epoch 5/100\n",
      "60000/60000 [==============================] - 5s 83us/sample - loss: 0.0157 - acc: 0.9948\n",
      "Epoch 6/100\n",
      "60000/60000 [==============================] - 5s 87us/sample - loss: 0.0131 - acc: 0.9958\n",
      "Epoch 7/100\n",
      "60000/60000 [==============================] - 5s 83us/sample - loss: 0.0087 - acc: 0.9972\n",
      "Epoch 8/100\n",
      "59616/60000 [============================>.] - ETA: 0s - loss: 0.0061 - acc: 0.9981\n",
      "Reached 99.8% accuracy, interrupting training!\n",
      "60000/60000 [==============================] - 5s 83us/sample - loss: 0.0061 - acc: 0.9981\n"
     ]
    },
    {
     "data": {
      "text/plain": [
       "<tensorflow.python.keras.callbacks.History at 0x7fd7ee263e48>"
      ]
     },
     "execution_count": 4,
     "metadata": {},
     "output_type": "execute_result"
    }
   ],
   "source": [
    "model = tf.keras.models.Sequential([\n",
    "    tf.keras.layers.Conv2D(64, (3,3), activation='relu', input_shape=(28,28,1)),\n",
    "    tf.keras.layers.MaxPooling2D(2,2),\n",
    "    tf.keras.layers.Flatten(),\n",
    "    tf.keras.layers.Dense(64, activation='relu'),\n",
    "    tf.keras.layers.Dense(10, activation='softmax')\n",
    "])\n",
    "\n",
    "model.compile(optimizer='adam', loss='sparse_categorical_crossentropy', metrics=['accuracy'])\n",
    "\n",
    "model.fit(training_images, training_labels, epochs=100, callbacks=[callbacks])"
   ]
  },
  {
   "cell_type": "code",
   "execution_count": 5,
   "metadata": {},
   "outputs": [
    {
     "name": "stdout",
     "output_type": "stream",
     "text": [
      "Epoch 1/100\n",
      "60000/60000 [==============================] - 5s 75us/sample - loss: 0.1467 - acc: 0.9562\n",
      "Epoch 2/100\n",
      "60000/60000 [==============================] - 4s 68us/sample - loss: 0.0511 - acc: 0.9845\n",
      "Epoch 3/100\n",
      "60000/60000 [==============================] - 4s 65us/sample - loss: 0.0322 - acc: 0.9899\n",
      "Epoch 4/100\n",
      "60000/60000 [==============================] - 5s 78us/sample - loss: 0.0230 - acc: 0.9927\n",
      "Epoch 5/100\n",
      "60000/60000 [==============================] - 4s 72us/sample - loss: 0.0147 - acc: 0.9952\n",
      "Epoch 6/100\n",
      "60000/60000 [==============================] - 5s 75us/sample - loss: 0.0104 - acc: 0.9965\n",
      "Epoch 7/100\n",
      "60000/60000 [==============================] - 5s 75us/sample - loss: 0.0090 - acc: 0.9970\n",
      "Epoch 8/100\n",
      "60000/60000 [==============================] - 4s 73us/sample - loss: 0.0067 - acc: 0.9977\n",
      "Epoch 9/100\n",
      "60000/60000 [==============================] - 4s 73us/sample - loss: 0.0064 - acc: 0.9979\n",
      "Epoch 10/100\n",
      "59776/60000 [============================>.] - ETA: 0s - loss: 0.0054 - acc: 0.9982\n",
      "Reached 99.8% accuracy, interrupting training!\n",
      "60000/60000 [==============================] - 5s 75us/sample - loss: 0.0054 - acc: 0.9982\n"
     ]
    },
    {
     "data": {
      "text/plain": [
       "<tensorflow.python.keras.callbacks.History at 0x7fd7d006ef98>"
      ]
     },
     "execution_count": 5,
     "metadata": {},
     "output_type": "execute_result"
    }
   ],
   "source": [
    "model = tf.keras.models.Sequential([\n",
    "    tf.keras.layers.Conv2D(32, (3,3), activation='relu', input_shape=(28,28,1)),\n",
    "    tf.keras.layers.MaxPooling2D(2,2),\n",
    "    tf.keras.layers.Flatten(),\n",
    "    tf.keras.layers.Dense(128, activation='relu'),\n",
    "    tf.keras.layers.Dense(10, activation='softmax')\n",
    "])\n",
    "\n",
    "model.compile(optimizer='adam', loss='sparse_categorical_crossentropy', metrics=['accuracy'])\n",
    "\n",
    "model.fit(training_images, training_labels, epochs=100, callbacks=[callbacks])"
   ]
  }
 ],
 "metadata": {
  "kernelspec": {
   "display_name": "Python 3",
   "language": "python",
   "name": "python3"
  },
  "language_info": {
   "codemirror_mode": {
    "name": "ipython",
    "version": 3
   },
   "file_extension": ".py",
   "mimetype": "text/x-python",
   "name": "python",
   "nbconvert_exporter": "python",
   "pygments_lexer": "ipython3",
   "version": "3.7.3"
  }
 },
 "nbformat": 4,
 "nbformat_minor": 2
}
